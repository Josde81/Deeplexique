{
 "cells": [
  {
   "cell_type": "code",
   "execution_count": 1,
   "metadata": {},
   "outputs": [],
   "source": [
    "import pandas as pd\n",
    "import numpy as np\n",
    "import json\n",
    "from sklearn.feature_extraction.text import CountVectorizer"
   ]
  },
  {
   "cell_type": "markdown",
   "metadata": {},
   "source": [
    "### Stop words"
   ]
  },
  {
   "cell_type": "code",
   "execution_count": 2,
   "metadata": {},
   "outputs": [],
   "source": [
    "with open('stopwords-fr.json') as f:\n",
    "    text_file = f.read()\n",
    "    StopWord = json.loads(text_file)"
   ]
  },
  {
   "cell_type": "markdown",
   "metadata": {},
   "source": [
    "### Dictionnaire de synonymes"
   ]
  },
  {
   "cell_type": "code",
   "execution_count": 3,
   "metadata": {},
   "outputs": [],
   "source": [
    "with open(\"./thesaurus-v2.3/dic_synonymes.json\") as f:\n",
    "    data = f.read()\n",
    "    dic_synonymes = json.loads(data)"
   ]
  },
  {
   "cell_type": "markdown",
   "metadata": {},
   "source": [
    "### Get vocabulary and synonymes"
   ]
  },
  {
   "cell_type": "code",
   "execution_count": 4,
   "metadata": {},
   "outputs": [],
   "source": [
    "def get_vocabulary_synonymes(text):\n",
    "    #si le texte est vide, renvoie un dic vide\n",
    "    if text == \"\":\n",
    "        return {}\n",
    "    #spliter le texte en phrases\n",
    "    text = text.replace(\"\\n\", \"\").split(\".\")\n",
    "    \n",
    "    #compter les mots par occurence et enlever les stopwords\n",
    "    vectorizer = CountVectorizer(stop_words=StopWord)\n",
    "    X = vectorizer.fit_transform(text)\n",
    "\n",
    "    frequence_mots = X.toarray()\n",
    "    \n",
    "    compte = np.sum(frequence_mots, axis=0)\n",
    "    \n",
    "    compte = list(compte)\n",
    "    mots = vectorizer.get_feature_names()\n",
    "\n",
    "    mots_occurence = pd.DataFrame(data={'compte' : compte, 'mots': mots})\n",
    "    mots_occurence = mots_occurence.sort_values(by = 'compte', ascending=False)\n",
    "    mots_occurence.iloc[:30]\n",
    "    \n",
    "    return {mot:dic_synonymes[mot] for mot in mots if mot in dic_synonymes}\n"
   ]
  },
  {
   "cell_type": "code",
   "execution_count": null,
   "metadata": {},
   "outputs": [
    {
     "name": "stdout",
     "output_type": "stream",
     "text": [
      " * Serving Flask app \"__main__\" (lazy loading)\n",
      " * Environment: production\n",
      "   WARNING: Do not use the development server in a production environment.\n",
      "   Use a production WSGI server instead.\n",
      " * Debug mode: off\n"
     ]
    },
    {
     "name": "stderr",
     "output_type": "stream",
     "text": [
      "127.0.0.1 - - [30/Jan/2020 10:26:15] \"\u001b[37mGET / HTTP/1.1\u001b[0m\" 200 -\n"
     ]
    }
   ],
   "source": [
    "from flask import Flask, escape, request, jsonify\n",
    "\n",
    "app = Flask(__name__, static_url_path='/static')\n",
    "\n",
    "@app.route('/')\n",
    "def root():\n",
    "    return app.send_static_file('index_html.html')\n",
    "\n",
    "@app.route('/vue')\n",
    "def rootvue():\n",
    "    response = app.send_static_file('index_vue.html')\n",
    "    response.headers.add('Access-Control-Allow-Origin', '*')\n",
    "    return response\n",
    "\n",
    "\n",
    "@app.route('/api/syno', methods=['POST'])\n",
    "def hello():\n",
    "    text = request.get_json()\n",
    "    mot_vers_synonymes = get_vocabulary_synonymes(text)\n",
    "    return jsonify(mot_vers_synonymes)\n",
    "\n",
    "if __name__ == '__main__':\n",
    "    app.run(debug=False)"
   ]
  },
  {
   "cell_type": "code",
   "execution_count": null,
   "metadata": {},
   "outputs": [],
   "source": []
  }
 ],
 "metadata": {
  "kernelspec": {
   "display_name": "Python 3",
   "language": "python",
   "name": "python3"
  },
  "language_info": {
   "codemirror_mode": {
    "name": "ipython",
    "version": 3
   },
   "file_extension": ".py",
   "mimetype": "text/x-python",
   "name": "python",
   "nbconvert_exporter": "python",
   "pygments_lexer": "ipython3",
   "version": "3.7.3"
  }
 },
 "nbformat": 4,
 "nbformat_minor": 2
}
