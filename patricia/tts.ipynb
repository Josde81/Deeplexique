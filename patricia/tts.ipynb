{
 "cells": [
  {
   "cell_type": "markdown",
   "metadata": {},
   "source": [
    "## Create a project and import required modules"
   ]
  },
  {
   "cell_type": "code",
   "execution_count": 1,
   "metadata": {},
   "outputs": [],
   "source": [
    "import os\n",
    "import requests\n",
    "import time\n",
    "from xml.etree import ElementTree"
   ]
  },
  {
   "cell_type": "markdown",
   "metadata": {},
   "source": [
    "## Set the subscription key and create a prompt for TTS"
   ]
  },
  {
   "cell_type": "code",
   "execution_count": 2,
   "metadata": {},
   "outputs": [],
   "source": [
    "try:\n",
    "    input = raw_input\n",
    "except NameError:\n",
    "    pass"
   ]
  },
  {
   "cell_type": "markdown",
   "metadata": {},
   "source": [
    "## Let's create a class. This is where we'll put our methods for token exchange, and calling the text-to-speech API."
   ]
  },
  {
   "cell_type": "code",
   "execution_count": 3,
   "metadata": {},
   "outputs": [],
   "source": [
    "class TextToSpeech(object):\n",
    "    def __init__(self, subscription_key):\n",
    "        self.subscription_key = subscription_key\n",
    "        self.tts = input(\"What would you like to convert to speech: \")\n",
    "        self.timestr = time.strftime(\"%Y%m%d-%H%M\")\n",
    "        self.access_token = None\n",
    "    \n",
    "# Get an access token\n",
    "    \n",
    "    def get_token(self):\n",
    "        fetch_token_url = \"https://francecentral.api.cognitive.microsoft.com/sts/v1.0/issuetoken\"\n",
    "        headers = {\n",
    "            'Ocp-Apim-Subscription-Key': self.subscription_key\n",
    "        }\n",
    "        response = requests.post(fetch_token_url, headers=headers)\n",
    "        self.access_token = str(response.text)\n",
    "        \n",
    "# Make a request and save the response       \n",
    "\n",
    "    def save_audio(self):\n",
    "        base_url = 'https://francecentral.tts.speech.microsoft.com/'\n",
    "        path = 'cognitiveservices/v1'\n",
    "        constructed_url = base_url + path\n",
    "        headers = {\n",
    "            'Authorization': 'Bearer ' + self.access_token,\n",
    "            'Content-Type': 'application/ssml+xml',\n",
    "            'X-Microsoft-OutputFormat': 'riff-24khz-16bit-mono-pcm',\n",
    "            'User-Agent': 'Pierre-Speech'\n",
    "        }\n",
    "        xml_body = ElementTree.Element('speak', version='1.0')\n",
    "        xml_body.set('{http://www.w3.org/XML/1998/namespace}lang', 'fr-FR')\n",
    "        voice = ElementTree.SubElement(xml_body, 'voice')\n",
    "        voice.set('{http://www.w3.org/XML/1998/namespace}lang', 'fr-FR')\n",
    "        voice.set(\n",
    "            'name', 'Microsoft Server Speech Text to Speech Voice (fr-FR, Paul, Apollo)')\n",
    "        voice.text = self.tts\n",
    "        body = ElementTree.tostring(xml_body)\n",
    "\n",
    "        response = requests.post(constructed_url, headers=headers, data=body)\n",
    "        if response.status_code == 200:\n",
    "            with open('sample-' + self.timestr + '.wav', 'wb') as audio:\n",
    "                audio.write(response.content)\n",
    "                print(\"\\nStatus code: \" + str(response.status_code) +\n",
    "                      \"\\nYour TTS is ready for playback.\\n\")\n",
    "        else:\n",
    "            print(\"\\nStatus code: \" + str(response.status_code) +\n",
    "                  \"\\nSomething went wrong. Check your subscription key and headers.\\n\")"
   ]
  },
  {
   "cell_type": "markdown",
   "metadata": {},
   "source": [
    "## Put it all together"
   ]
  },
  {
   "cell_type": "code",
   "execution_count": 4,
   "metadata": {},
   "outputs": [
    {
     "name": "stdout",
     "output_type": "stream",
     "text": [
      "What would you like to convert to speech: Bonjour j'aime la baguette\n",
      "\n",
      "Status code: 200\n",
      "Your TTS is ready for playback.\n",
      "\n"
     ]
    }
   ],
   "source": [
    "if __name__ == \"__main__\":\n",
    "    subscription_key = \"5768554d391947a588a7f9a5826f21a5\"\n",
    "    app = TextToSpeech(subscription_key)\n",
    "    app.get_token()\n",
    "    app.save_audio()\n"
   ]
  },
  {
   "cell_type": "code",
   "execution_count": null,
   "metadata": {},
   "outputs": [],
   "source": []
  }
 ],
 "metadata": {
  "kernelspec": {
   "display_name": "Python 3",
   "language": "python",
   "name": "python3"
  },
  "language_info": {
   "codemirror_mode": {
    "name": "ipython",
    "version": 3
   },
   "file_extension": ".py",
   "mimetype": "text/x-python",
   "name": "python",
   "nbconvert_exporter": "python",
   "pygments_lexer": "ipython3",
   "version": "3.7.3"
  }
 },
 "nbformat": 4,
 "nbformat_minor": 2
}
